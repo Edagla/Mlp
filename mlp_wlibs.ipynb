{
 "cells": [
  {
   "cell_type": "code",
   "execution_count": 1,
   "id": "c1bfdeda-0e58-4c23-abb2-d353907b3bd8",
   "metadata": {},
   "outputs": [],
   "source": [
    "import numpy as np\n",
    "import pandas as pd\n",
    "import keras.callbacks as kc\n",
    "import keras\n",
    "#from keras.utils import to_categorical\n",
    "from keras.callbacks import EarlyStopping, ModelCheckpoint\n",
    "from keras.models import Sequential, load_model\n",
    "from keras.layers import Dense\n",
    "from sklearn.model_selection import train_test_split\n",
    "#import matplotlib.pyplot as plt"
   ]
  },
  {
   "cell_type": "code",
   "execution_count": 2,
   "id": "f8e1ade8-f249-489b-b90a-4c5720a83149",
   "metadata": {},
   "outputs": [],
   "source": [
    "df=pd.read_csv(\"BankNote_Authentication.csv\")"
   ]
  },
  {
   "cell_type": "code",
   "execution_count": 3,
   "id": "96c26bb0-f7b9-44a6-a109-8329aa6d7f50",
   "metadata": {},
   "outputs": [],
   "source": [
    "df=df.sample(frac=1, random_state=42).reset_index(drop=True)"
   ]
  },
  {
   "cell_type": "code",
   "execution_count": 4,
   "id": "e649fb33-dffd-4de6-8f75-7f67a06bdb51",
   "metadata": {},
   "outputs": [],
   "source": [
    "x,y= df.iloc[:,:-1], df.iloc[:,-1]"
   ]
  },
  {
   "cell_type": "code",
   "execution_count": 5,
   "id": "ae5e28b3-f33e-48aa-9b9e-adc68474c1d1",
   "metadata": {},
   "outputs": [],
   "source": [
    "x=x.to_numpy()"
   ]
  },
  {
   "cell_type": "code",
   "execution_count": 6,
   "id": "c4eaef60-d8d9-440c-96a7-8f3f9619cf37",
   "metadata": {},
   "outputs": [],
   "source": [
    "y=y.to_numpy().reshape(-1,1)"
   ]
  },
  {
   "cell_type": "code",
   "execution_count": 7,
   "id": "54fe924d-2eab-4343-a67d-82c13932a2df",
   "metadata": {},
   "outputs": [],
   "source": [
    "x_train, x_test, y_train, y_test = train_test_split(x,y,test_size=0.2, random_state=123, stratify=y)"
   ]
  },
  {
   "cell_type": "code",
   "execution_count": 8,
   "id": "43447770-c4d8-4be5-845a-a193c010bc9d",
   "metadata": {},
   "outputs": [
    {
     "name": "stderr",
     "output_type": "stream",
     "text": [
      "C:\\Anaconda\\envs\\keras_2\\Lib\\site-packages\\keras\\src\\layers\\core\\dense.py:87: UserWarning: Do not pass an `input_shape`/`input_dim` argument to a layer. When using Sequential models, prefer using an `Input(shape)` object as the first layer in the model instead.\n",
      "  super().__init__(activity_regularizer=activity_regularizer, **kwargs)\n"
     ]
    }
   ],
   "source": [
    "model = Sequential()\n",
    "#modeli oluşturuyoruz\n",
    "#hidden layer\n",
    "model.add(Dense(5,activation='relu',input_shape=(4,)))\n",
    "\n",
    "#output layer\n",
    "model.add(Dense(1,activation='sigmoid'))"
   ]
  },
  {
   "cell_type": "code",
   "execution_count": 9,
   "id": "96914992-83db-4aa8-825c-ecb12ecf198b",
   "metadata": {},
   "outputs": [],
   "source": [
    "model.compile(\n",
    "    loss=keras.losses.BinaryCrossentropy(from_logits=True),\n",
    "    metrics=[\"accuracy\"]\n",
    ")"
   ]
  },
  {
   "cell_type": "code",
   "execution_count": 23,
   "id": "754a4918-c21c-4fbd-85f5-f05e1ed2b388",
   "metadata": {},
   "outputs": [],
   "source": [
    "def train_and_test_model(\n",
    "    model,\n",
    "    x_train: np.ndarray,\n",
    "    y_train: np.ndarray,\n",
    "    epochs: int = 4,\n",
    "    batch_size: int = 25,\n",
    "    validation_split: float = 0.2,\n",
    "    callbacks: list = None\n",
    ") ->kc.History:\n",
    "   \n",
    "    history = model.fit(\n",
    "        x_train,\n",
    "        y_train,\n",
    "        epochs=epochs,\n",
    "        batch_size=batch_size,\n",
    "        validation_split=validation_split,\n",
    "        callbacks=callbacks\n",
    "    )# bu metot modelin eğitiminde kullanılır ve çıktısı historydir  \n",
    "  \n",
    "    history = model.history.history\n",
    "    test__loss,test_acc=model.evaluate(x_test,y_test)#bu metot eğitimi tamamlanmış modeli test etmek için kullanılır\n",
    "    print(f\"test accuracy:{test_acc},test loss:{ test__loss}\")\n",
    "\n",
    "    print(\"Stopped at epoch:\", len(history['loss']))\n",
    "\n",
    "\n",
    "  \n",
    "    return history"
   ]
  },
  {
   "cell_type": "code",
   "execution_count": 11,
   "id": "19e00f8c-57a7-4f1d-8985-da3c36e64049",
   "metadata": {},
   "outputs": [],
   "source": [
    "early_stopping=EarlyStopping(monitor=\"val_loss\", patience=10)\n",
    "checkpoint=ModelCheckpoint(\"ann_best_model.keras\", monitor=\"val_loss\", save_best_only=True)"
   ]
  },
  {
   "cell_type": "code",
   "execution_count": 12,
   "id": "b9468c35-1865-4e85-a445-5ba91ce4aecd",
   "metadata": {},
   "outputs": [],
   "source": [
    "callbacks = [early_stopping, checkpoint]\n",
    "#callbacks modelde val_loss 10 kereden fazla artarsa (patience) epoch ilerlemesini durdurmak içindir"
   ]
  },
  {
   "cell_type": "code",
   "execution_count": 25,
   "id": "08ffd0a7-63f6-4d4c-8386-ffd9883f2864",
   "metadata": {},
   "outputs": [
    {
     "name": "stdout",
     "output_type": "stream",
     "text": [
      "Epoch 1/4\n",
      "\u001b[1m36/36\u001b[0m \u001b[32m━━━━━━━━━━━━━━━━━━━━\u001b[0m\u001b[37m\u001b[0m \u001b[1m0s\u001b[0m 4ms/step - accuracy: 0.4492 - loss: 0.7275 - val_accuracy: 0.6409 - val_loss: 0.6782\n",
      "Epoch 2/4\n",
      "\u001b[1m36/36\u001b[0m \u001b[32m━━━━━━━━━━━━━━━━━━━━\u001b[0m\u001b[37m\u001b[0m \u001b[1m0s\u001b[0m 3ms/step - accuracy: 0.6281 - loss: 0.6562 - val_accuracy: 0.7045 - val_loss: 0.6191\n",
      "Epoch 3/4\n",
      "\u001b[1m36/36\u001b[0m \u001b[32m━━━━━━━━━━━━━━━━━━━━\u001b[0m\u001b[37m\u001b[0m \u001b[1m0s\u001b[0m 3ms/step - accuracy: 0.7206 - loss: 0.6112 - val_accuracy: 0.7500 - val_loss: 0.5713\n",
      "Epoch 4/4\n",
      "\u001b[1m36/36\u001b[0m \u001b[32m━━━━━━━━━━━━━━━━━━━━\u001b[0m\u001b[37m\u001b[0m \u001b[1m0s\u001b[0m 3ms/step - accuracy: 0.7919 - loss: 0.5601 - val_accuracy: 0.7818 - val_loss: 0.5242\n",
      "\u001b[1m9/9\u001b[0m \u001b[32m━━━━━━━━━━━━━━━━━━━━\u001b[0m\u001b[37m\u001b[0m \u001b[1m0s\u001b[0m 4ms/step - accuracy: 0.8160 - loss: 0.5214 \n",
      "test accuracy:0.8218181729316711,test loss:0.518560528755188\n",
      "Stopped at epoch: 4\n"
     ]
    },
    {
     "data": {
      "text/plain": [
       "{'accuracy': [0.4800456166267395,\n",
       "  0.6408209800720215,\n",
       "  0.7217788100242615,\n",
       "  0.785632848739624],\n",
       " 'loss': [0.7183542251586914,\n",
       "  0.6579751968383789,\n",
       "  0.6067856550216675,\n",
       "  0.5600347518920898],\n",
       " 'val_accuracy': [0.6409090757369995,\n",
       "  0.7045454382896423,\n",
       "  0.75,\n",
       "  0.7818182110786438],\n",
       " 'val_loss': [0.6781668066978455,\n",
       "  0.6191491484642029,\n",
       "  0.5712992548942566,\n",
       "  0.524222731590271]}"
      ]
     },
     "execution_count": 25,
     "metadata": {},
     "output_type": "execute_result"
    }
   ],
   "source": [
    "train_and_test_model(\n",
    "    model,\n",
    "    x_train,\n",
    "    y_train,\n",
    ") "
   ]
  },
  {
   "cell_type": "code",
   "execution_count": null,
   "id": "fe83e3a7-7009-4a86-847a-348c63d896ad",
   "metadata": {},
   "outputs": [],
   "source": []
  }
 ],
 "metadata": {
  "kernelspec": {
   "display_name": "Python [conda env:keras_2]",
   "language": "python",
   "name": "conda-env-keras_2-py"
  },
  "language_info": {
   "codemirror_mode": {
    "name": "ipython",
    "version": 3
   },
   "file_extension": ".py",
   "mimetype": "text/x-python",
   "name": "python",
   "nbconvert_exporter": "python",
   "pygments_lexer": "ipython3",
   "version": "3.11.11"
  }
 },
 "nbformat": 4,
 "nbformat_minor": 5
}
