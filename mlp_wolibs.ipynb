{
 "cells": [
  {
   "cell_type": "code",
   "execution_count": 22,
   "id": "70c51088-e9db-4ac9-a563-b1a4a5afa058",
   "metadata": {},
   "outputs": [],
   "source": [
    "import pandas as pd \n",
    "from sklearn.model_selection import train_test_split\n",
    "import numpy as np\n",
    "from sklearn.metrics import accuracy_score, precision_score, recall_score, f1_score, confusion_matrix, classification_report\n",
    "import matplotlib.pyplot as plt"
   ]
  },
  {
   "cell_type": "code",
   "execution_count": 23,
   "id": "0e3e53c8-4a1f-4f52-9b9e-dae2a033cc24",
   "metadata": {},
   "outputs": [],
   "source": [
    "df=pd.read_csv(\"BankNote_Authentication.csv\")"
   ]
  },
  {
   "cell_type": "code",
   "execution_count": 24,
   "id": "57b228cf-024a-4a15-af03-dfd864ed00ca",
   "metadata": {},
   "outputs": [],
   "source": [
    "df=df.sample(frac=1, random_state=42).reset_index(drop=True)\n",
    "#veri setinden karışık halde sample almak ve bunların indexlerini çıkarmak için "
   ]
  },
  {
   "cell_type": "code",
   "execution_count": 25,
   "id": "059adb95-67ff-4c67-b01b-bba212a71334",
   "metadata": {},
   "outputs": [],
   "source": [
    "x,y= df.iloc[:,:-1], df.iloc[:,-1]"
   ]
  },
  {
   "cell_type": "code",
   "execution_count": 26,
   "id": "b8ce6f36-148b-4894-9da1-ab2c4e05a2fd",
   "metadata": {},
   "outputs": [],
   "source": [
    "x=x.to_numpy()"
   ]
  },
  {
   "cell_type": "code",
   "execution_count": 27,
   "id": "9ac11eb4-590e-46cc-b4fc-afd62e210113",
   "metadata": {},
   "outputs": [],
   "source": [
    "y=y.to_numpy().reshape(-1,1)"
   ]
  },
  {
   "cell_type": "code",
   "execution_count": 28,
   "id": "dd97d00f-c6c8-42e4-a5cb-a99803923897",
   "metadata": {},
   "outputs": [],
   "source": [
    "x_train, x_test, y_train, y_test = train_test_split(x,y,test_size=0.2, random_state=123, stratify=y)"
   ]
  },
  {
   "cell_type": "code",
   "execution_count": 29,
   "id": "669542af-3f6c-4039-a9e3-ece7f6b01aad",
   "metadata": {},
   "outputs": [],
   "source": [
    "def initialize_parameters(layer_no, n_x, n_h ,n_y=1):\n",
    "    \n",
    "\n",
    "    #n_h: hücre sayısı\n",
    "    #n_x: nitelik sayısı\n",
    "    #n_y: output sayısı\n",
    "    #burada her bir layer için parametreleri initialize ediyoruz\n",
    "    \n",
    "    np.random.seed(42)\n",
    "    if(layer_no==2):\n",
    "        w1=np.random.randn(n_h,n_x)*0.01\n",
    "        b1=np.zeros((n_h,1))       \n",
    "        w2=np.random.randn(n_y,n_h)*0.01\n",
    "        b2=np.zeros((n_y,1))\n",
    "        parameters={\n",
    "             \"w1\":w1,\n",
    "             \"b1\":b1,\n",
    "             \"w2\":w2,\n",
    "             \"b2\":b2\n",
    "        }\n",
    "    if(layer_no==3):\n",
    "        w1=np.random.randn(n_h,n_x)*0.01\n",
    "        b1=np.zeros((n_h,1))\n",
    "        w2=np.random.randn(n_h,n_h)*0.01\n",
    "        b2=np.zeros((n_h,1))\n",
    "        w3=np.random.randn(n_y,n_h)*0.01\n",
    "        b3=np.zeros((n_y,1))\n",
    "        parameters={\n",
    "             \"w1\":w1,\n",
    "             \"b1\":b1,\n",
    "             \"w2\":w2,\n",
    "             \"b2\":b2,\n",
    "             \"w3\":w3,\n",
    "             \"b3\":b3\n",
    "            }\n",
    " \n",
    "    return parameters"
   ]
  },
  {
   "cell_type": "code",
   "execution_count": 38,
   "id": "46936e0c-3afc-47d7-8b1b-f9020208ac68",
   "metadata": {},
   "outputs": [],
   "source": [
    "def relu(x):\n",
    "  return np.maximum(0, x)"
   ]
  },
  {
   "cell_type": "code",
   "execution_count": 40,
   "id": "2a29692b-e55e-4bcc-a3c8-cece9145c730",
   "metadata": {},
   "outputs": [],
   "source": [
    "def sigmoid(Z):\n",
    "    return 1 / (1 + np.exp(-1 * Z))"
   ]
  },
  {
   "cell_type": "code",
   "execution_count": 56,
   "id": "c7a7949f-de3d-4378-aa40-11e144bf1eaa",
   "metadata": {},
   "outputs": [],
   "source": [
    "def forward_propagation(layer_no, X, parameters):\n",
    "    #burada layerların teker teker ileri yayılımını yapıyoruz, layer3 olan: 1. ve 2. hidden layer için relu,\n",
    "    # output layer için sigmoid fonskiyonu kullanıldı\n",
    "    # layer2 olan: 1. hidden layer için relu,\n",
    "    # output layer için sigmoid fonskiyonu kullanıldı\n",
    "    if(layer_no==2):\n",
    "        w1 = parameters[\"w1\"]\n",
    "        b1 = parameters[\"b1\"]\n",
    "        w2 = parameters[\"w2\"]\n",
    "        b2 = parameters[\"b2\"]\n",
    "        \n",
    "        Z0 = np.dot(w1,X.T) \n",
    "        Z1= Z0 + b1 \n",
    "        A1 = relu(Z1)\n",
    "        Z22 = np.dot(A1.T,w2.T) \n",
    "        Z2= Z22.T + b2 \n",
    "        A2 = sigmoid(Z2)  \n",
    "        output=A2\n",
    "        \n",
    "        cache = {\n",
    "            \"Z0\" : Z0,\n",
    "            \"Z1\" : Z1,\n",
    "            \"A1\" : A1,\n",
    "            \"Z2\" : Z2,\n",
    "            \"A2\" : A2\n",
    "        }\n",
    "    if(layer_no==3):\n",
    "        w1 = parameters[\"w1\"]\n",
    "        b1 = parameters[\"b1\"]\n",
    "        w2 = parameters[\"w2\"]\n",
    "        b2 = parameters[\"b2\"]\n",
    "        w3 = parameters[\"w3\"]\n",
    "        b3 = parameters[\"b3\"]\n",
    "        \n",
    "        Z0 = np.dot(w1,X.T) \n",
    "        Z1= Z0 + b1 \n",
    "        A1 = relu(Z1)\n",
    "        Z22 = np.dot(A1.T,w2) \n",
    "        Z2= Z22.T + b2 \n",
    "        A2 = relu(Z2)  \n",
    "        Z33 = np.dot(w3, A2) \n",
    "        Z3= Z33 + b3 \n",
    "        A3 = sigmoid(Z3) \n",
    "        output=A3\n",
    "        cache = {\n",
    "            \"Z0\" : Z0,\n",
    "            \"Z1\" : Z1,\n",
    "            \"A1\" : A1,\n",
    "            \"Z2\" : Z2,\n",
    "            \"A2\" : A2,\n",
    "            \"Z3\" : Z3,\n",
    "            \"A3\" : A3\n",
    "        }\n",
    "    \n",
    "    return output, cache"
   ]
  },
  {
   "cell_type": "code",
   "execution_count": 42,
   "id": "74602a29-b43f-4da9-b01a-e5927a8d9910",
   "metadata": {},
   "outputs": [],
   "source": [
    "def compute_cost(y_prediction, Y):\n",
    "    m = y_prediction.shape[1]\n",
    "    c0 =np.dot(sigmoid(np.log(y_prediction)), Y)\n",
    "    c1=np.dot(sigmoid(np.log(1 - y_prediction)), (1 - Y))\n",
    "    cost=(c0+c1)/m\n",
    "    cost = float(np.squeeze(cost))\n",
    "    return cost"
   ]
  },
  {
   "cell_type": "code",
   "execution_count": 43,
   "id": "f9d12eba-bfc4-4237-ad27-130e3aa1b955",
   "metadata": {},
   "outputs": [],
   "source": [
    "def backpropagation(layer_no, X, Y, cache, parameters):\n",
    "    \n",
    "    m = X.shape[0]\n",
    "    if(layer_no==2):\n",
    "        w1 = parameters[\"w1\"]\n",
    "        w2 = parameters[\"w2\"]\n",
    "      \n",
    "        A1 = cache[\"A1\"]\n",
    "        A2 = cache[\"A2\"]\n",
    "       \n",
    "        dZ2 = A2.T - Y \n",
    "        dW2 = np.dot(dZ2.T, A1.T) / m \n",
    "        db2 = np.sum(dZ2, axis = 0, keepdims = True) / m \n",
    "        dZ1 = np.dot(dZ2, w2) * relu(1 - np.power(A1, 2)).T \n",
    "        dW1 = np.dot(dZ1.T, X) / m \n",
    "        db1 = np.sum(dZ1, axis = 0, keepdims = True) / m \n",
    "    \n",
    "        grads = {\n",
    "            \"dW1\" : dW1,\n",
    "            \"dW2\" : dW2,\n",
    "            \"db1\" : db1,\n",
    "            \"db2\" : db2\n",
    "          \n",
    "        }\n",
    "        \n",
    "    if(layer_no==3):\n",
    "        w1 = parameters[\"w1\"]\n",
    "        w2 = parameters[\"w2\"]\n",
    "        w3 = parameters[\"w3\"]\n",
    "        A1 = cache[\"A1\"]\n",
    "        A2 = cache[\"A2\"]\n",
    "        A3 = cache[\"A3\"]\n",
    "\n",
    "        dZ3 = A3.T - Y \n",
    "        dW3 = np.dot(dZ3.T, A2.T) / m \n",
    "        db3 = np.sum(dZ3, axis = 0, keepdims = True) / m \n",
    "        dZ2 = np.dot(dZ3, w3) * relu(1 - np.power(A2, 2)).T \n",
    "        dW2 = np.dot(dZ2.T, A1.T) / m \n",
    "        db2 = np.sum(dZ2, axis = 0, keepdims = True) / m \n",
    "        dZ1 = np.dot(dZ2, w2) * relu(1 - np.power(A1, 2)).T \n",
    "        dW1 = np.dot(dZ1.T, X) / m \n",
    "        db1 = np.sum(dZ1, axis = 0, keepdims = True) / m \n",
    "    \n",
    "        grads = {\n",
    "            \"dW1\" : dW1,\n",
    "            \"dW2\" : dW2,\n",
    "            \"dW3\" : dW3,\n",
    "            \"db1\" : db1,\n",
    "            \"db2\" : db2,\n",
    "            \"db3\" : db3\n",
    "        }\n",
    "    \n",
    "    return grads"
   ]
  },
  {
   "cell_type": "code",
   "execution_count": 44,
   "id": "0d54e29c-1b59-4d61-a41f-46867da0e210",
   "metadata": {},
   "outputs": [],
   "source": [
    "def update_parameters(layer_no, parameters, grads, learning_rate = 0.01):\n",
    "    if(layer_no==2):\n",
    "        w1 = parameters[\"w1\"]\n",
    "        b1 = parameters[\"b1\"]\n",
    "        w2 = parameters[\"w2\"]\n",
    "        b2 = parameters[\"b2\"]\n",
    "     \n",
    "\n",
    "        dW1 = grads[\"dW1\"]\n",
    "        dW2 = grads[ \"dW2\" ]\n",
    "        db1= grads[\"db1\"]\n",
    "        db2 = grads[\"db2\"] \n",
    "       \n",
    "    \n",
    "        w1 -= learning_rate * dW1\n",
    "        b1 -= learning_rate * db1.T\n",
    "        w2 -= learning_rate * dW2\n",
    "        b2 -= learning_rate * db2\n",
    "        \n",
    "    \n",
    "        parameters = {\n",
    "            \"w1\" : w1,\n",
    "            \"b1\" : b1,\n",
    "            \"w2\" : w2,\n",
    "            \"b2\" : b2\n",
    "        }\n",
    "        \n",
    "    if(layer_no==3):\n",
    "        w1 = parameters[\"w1\"]\n",
    "        b1 = parameters[\"b1\"]\n",
    "        w2 = parameters[\"w2\"]\n",
    "        b2 = parameters[\"b2\"]\n",
    "        w3 = parameters[\"w3\"]\n",
    "        b3 = parameters[\"b3\"]\n",
    "\n",
    "        dW1 = grads[\"dW1\"]\n",
    "        dW2 = grads[ \"dW2\" ]\n",
    "        dW3 = grads[\"dW3\" ]\n",
    "        db1= grads[\"db1\"]\n",
    "        db2 = grads[\"db2\"] \n",
    "        db3 = grads[ \"db3\" ]\n",
    "    \n",
    "        w1 -= learning_rate * dW1\n",
    "        b1 -= learning_rate * db1.T\n",
    "        w2 -= learning_rate * dW2\n",
    "        b2 -= learning_rate * db2.T\n",
    "        w3 -= learning_rate * dW3\n",
    "        b3 -= learning_rate * db3\n",
    "    \n",
    "        parameters = {\n",
    "            \"w1\" : w1,\n",
    "            \"b1\" : b1,\n",
    "            \"w2\" : w2,\n",
    "            \"b2\" : b2,\n",
    "            \"w3\" : w3,\n",
    "            \"b3\" : b3\n",
    "        }\n",
    "    return parameters"
   ]
  },
  {
   "cell_type": "code",
   "execution_count": 45,
   "id": "ddbda802-31de-4972-b820-d2d87d9053fc",
   "metadata": {},
   "outputs": [],
   "source": [
    "def nn_model(layer_no, X, Y, n_x, n_h, n_y, n_steps = 1000, print_cost = True):\n",
    "    parameters = initialize_parameters(layer_no, n_x, n_h, n_y)\n",
    "    \n",
    "    for i in range(0, n_steps):\n",
    "        y_prediction, cache = forward_propagation(layer_no, X, parameters)\n",
    "        cost = compute_cost(y_prediction, Y)\n",
    "        grads = backpropagation(layer_no, X, Y, cache, parameters)\n",
    "        parameters = update_parameters(layer_no, parameters, grads)\n",
    "        \n",
    "        if print_cost and i % 1000 == 0:\n",
    "            print(\"cost: %i , %f\" %(i,cost))\n",
    "    \n",
    "    return parameters"
   ]
  },
  {
   "cell_type": "code",
   "execution_count": 58,
   "id": "cefa173c-6753-43b6-a347-556bd2f0d816",
   "metadata": {},
   "outputs": [
    {
     "name": "stdout",
     "output_type": "stream",
     "text": [
      "cost: 0 , 0.333319\n",
      "cost: 0 , 0.333333\n"
     ]
    }
   ],
   "source": [
    "parameters_2 = nn_model(2,x_train, y_train, x_train.shape[1], n_h = 5, n_y = 1, n_steps = 1000)\n",
    "parameters_3 = nn_model(3,x_train, y_train, x_train.shape[1], n_h = 5, n_y = 1, n_steps = 1000)\n"
   ]
  },
  {
   "cell_type": "code",
   "execution_count": 60,
   "id": "e7cdb4c2-b577-4994-839e-1c7fa780e780",
   "metadata": {},
   "outputs": [],
   "source": [
    "def predict(layer_no, parameters, X):\n",
    "    output_pred, cache = forward_propagation(layer_no, X, parameters)\n",
    "    predicts = output_pred > 0.44942162\n",
    "    return predicts"
   ]
  },
  {
   "cell_type": "code",
   "execution_count": 64,
   "id": "66d2555e-ef48-4d64-b492-8ec16f67d897",
   "metadata": {},
   "outputs": [
    {
     "name": "stdout",
     "output_type": "stream",
     "text": [
      "(275, 4) (1, 275)\n",
      "(1, 275)\n"
     ]
    }
   ],
   "source": [
    "predicts_2 = predict(2,parameters_2, x_test)\n",
    "print(x_test.shape,predicts_2.shape)\n",
    "predicts_3 = predict(3,parameters_3, x_test)\n",
    "print(predicts_3.shape)"
   ]
  },
  {
   "cell_type": "code",
   "execution_count": 66,
   "id": "5c753511-9f54-4948-bac4-77283920a097",
   "metadata": {},
   "outputs": [
    {
     "name": "stdout",
     "output_type": "stream",
     "text": [
      "Accuracy: 0.8691\n",
      "Precision: 0.8209\n",
      "Recall: 0.9016\n",
      "F1 Score: 0.8594\n",
      "\n",
      "Confusion Matrix:\n",
      "[[129  24]\n",
      " [ 12 110]]\n",
      "\n",
      "Classification Report:\n",
      "              precision    recall  f1-score   support\n",
      "\n",
      "           0       0.91      0.84      0.88       153\n",
      "           1       0.82      0.90      0.86       122\n",
      "\n",
      "    accuracy                           0.87       275\n",
      "   macro avg       0.87      0.87      0.87       275\n",
      "weighted avg       0.87      0.87      0.87       275\n",
      "\n"
     ]
    }
   ],
   "source": [
    "y_true = y_test.flatten().T#(275,1)'lik olan boyutu sadece 275 yapmak için kullanıldı\n",
    "y_pred_2 = predicts_2.flatten().T\n",
    "acc = accuracy_score(y_true, y_pred_2)\n",
    "precision = precision_score(y_true, y_pred_2, average='binary') \n",
    "recall = recall_score(y_true, y_pred_2, average='binary')\n",
    "f1 = f1_score(y_true, y_pred_2, average='binary')\n",
    "conf_matrix = confusion_matrix(y_true, y_pred_2)\n",
    "print(f\"Accuracy: {acc:.4f}\")\n",
    "print(f\"Precision: {precision:.4f}\")\n",
    "print(f\"Recall: {recall:.4f}\")\n",
    "print(f\"F1 Score: {f1:.4f}\")\n",
    "print(\"\\nConfusion Matrix:\")\n",
    "print(conf_matrix)\n",
    "print(\"\\nClassification Report:\")\n",
    "print(classification_report(y_true, y_pred_2)) "
   ]
  },
  {
   "cell_type": "code",
   "execution_count": 68,
   "id": "b8403b4e-e5ea-4ed4-99db-c2e7e3b0704c",
   "metadata": {},
   "outputs": [
    {
     "name": "stdout",
     "output_type": "stream",
     "text": [
      "Accuracy: 0.7491\n",
      "Precision: 0.6879\n",
      "Recall: 0.7951\n",
      "F1 Score: 0.7376\n",
      "\n",
      "Confusion Matrix:\n",
      "[[109  44]\n",
      " [ 25  97]]\n",
      "\n",
      "Classification Report:\n",
      "              precision    recall  f1-score   support\n",
      "\n",
      "           0       0.81      0.71      0.76       153\n",
      "           1       0.69      0.80      0.74       122\n",
      "\n",
      "    accuracy                           0.75       275\n",
      "   macro avg       0.75      0.75      0.75       275\n",
      "weighted avg       0.76      0.75      0.75       275\n",
      "\n"
     ]
    }
   ],
   "source": [
    "y_true = y_test.flatten().T#(275,1)'lik olan boyutu sadece 275 yapmak için kullanıldı\n",
    "y_pred_3 = predicts_3.flatten().T\n",
    "acc = accuracy_score(y_true, y_pred_3)\n",
    "precision = precision_score(y_true, y_pred_3, average='binary') \n",
    "recall = recall_score(y_true, y_pred_3, average='binary')\n",
    "f1 = f1_score(y_true, y_pred_3, average='binary')\n",
    "conf_matrix = confusion_matrix(y_true, y_pred_3)\n",
    "print(f\"Accuracy: {acc:.4f}\")\n",
    "print(f\"Precision: {precision:.4f}\")\n",
    "print(f\"Recall: {recall:.4f}\")\n",
    "print(f\"F1 Score: {f1:.4f}\")\n",
    "print(\"\\nConfusion Matrix:\")\n",
    "print(conf_matrix)\n",
    "print(\"\\nClassification Report:\")\n",
    "print(classification_report(y_true, y_pred_3)) "
   ]
  },
  {
   "cell_type": "code",
   "execution_count": null,
   "id": "901a187f-60d9-4526-bb37-f5df20949d25",
   "metadata": {},
   "outputs": [],
   "source": []
  }
 ],
 "metadata": {
  "kernelspec": {
   "display_name": "Python [conda env:base] *",
   "language": "python",
   "name": "conda-base-py"
  },
  "language_info": {
   "codemirror_mode": {
    "name": "ipython",
    "version": 3
   },
   "file_extension": ".py",
   "mimetype": "text/x-python",
   "name": "python",
   "nbconvert_exporter": "python",
   "pygments_lexer": "ipython3",
   "version": "3.11.5"
  }
 },
 "nbformat": 4,
 "nbformat_minor": 5
}
